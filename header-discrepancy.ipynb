{
 "cells": [
  {
   "cell_type": "code",
   "execution_count": 2,
   "metadata": {},
   "outputs": [
    {
     "name": "stdout",
     "output_type": "stream",
     "text": [
      "<span style='color:red'>-20.8%</span>\n"
     ]
    }
   ],
   "source": [
    "import numpy as np\n",
    "def format_discrepancy_percentile(discrepancy):\n",
    "  discrepancy_str = str(discrepancy)\n",
    "  value_str = discrepancy_str.rstrip(\"%\") if \"%\" in discrepancy_str else discrepancy_str\n",
    "  value = float(value_str)\n",
    "  color = \"green\" if np.sign(value) > 0 else \"red\"\n",
    "  cell_format = f\"<span style='color:{color}'>{value}%</span>\"\n",
    "  return cell_format\n",
    "\n",
    "print(format_discrepancy_percentile(\"-20.8%\"))  "
   ]
  }
 ],
 "metadata": {
  "kernelspec": {
   "display_name": "Python 3",
   "language": "python",
   "name": "python3"
  },
  "language_info": {
   "codemirror_mode": {
    "name": "ipython",
    "version": 3
   },
   "file_extension": ".py",
   "mimetype": "text/x-python",
   "name": "python",
   "nbconvert_exporter": "python",
   "pygments_lexer": "ipython3",
   "version": "3.10.12"
  }
 },
 "nbformat": 4,
 "nbformat_minor": 2
}
